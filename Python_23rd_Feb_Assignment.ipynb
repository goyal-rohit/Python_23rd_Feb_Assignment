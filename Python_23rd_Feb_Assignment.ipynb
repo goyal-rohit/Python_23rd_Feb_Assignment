{
 "cells": [
  {
   "cell_type": "markdown",
   "id": "6d2228f8-60a6-492f-8d37-c2be565bad8d",
   "metadata": {},
   "source": [
    "Q1. Create a Pandas Series that contains the following data: 4, 8, 15, 16, 23, and 42. Then, print the series."
   ]
  },
  {
   "cell_type": "code",
   "execution_count": 1,
   "id": "a924ef26-97ee-434a-966a-4c1c942e62b3",
   "metadata": {},
   "outputs": [
    {
     "name": "stdout",
     "output_type": "stream",
     "text": [
      "0     4\n",
      "1     8\n",
      "2    15\n",
      "3    16\n",
      "4    23\n",
      "5    42\n",
      "dtype: int64\n"
     ]
    }
   ],
   "source": [
    "import pandas as pd\n",
    "data = [4,8,15,16,23,42]\n",
    "s = pd.Series(data)\n",
    "print(s)"
   ]
  },
  {
   "cell_type": "markdown",
   "id": "3716e815-ffab-4b1e-ada1-308ee62cd76f",
   "metadata": {},
   "source": [
    "Q2. Create a variable of list type containing 10 elements in it, and apply pandas.Series function on the variable print it."
   ]
  },
  {
   "cell_type": "code",
   "execution_count": 2,
   "id": "f7968712-7884-4c37-9b5d-b6e0c7a2e855",
   "metadata": {},
   "outputs": [
    {
     "name": "stdout",
     "output_type": "stream",
     "text": [
      "0     1\n",
      "1     2\n",
      "2     3\n",
      "3     4\n",
      "4     5\n",
      "5     6\n",
      "6     7\n",
      "7     8\n",
      "8     9\n",
      "9    10\n",
      "dtype: int64\n"
     ]
    }
   ],
   "source": [
    "my_list = [1,2,3,4,5,6,7,8,9,10]\n",
    "s1 = pd.Series(my_list)\n",
    "print(s1)"
   ]
  },
  {
   "cell_type": "markdown",
   "id": "60af6ebe-228a-4fa3-a02f-3235c9688d8d",
   "metadata": {},
   "source": [
    "Q3. Create a Pandas DataFrame that contains the following data:\n",
    "Then, print the DataFrame."
   ]
  },
  {
   "attachments": {
    "08f459c8-3774-4ada-9599-ba9bf336f344.PNG": {
     "image/png": "[encoded data removed]"
    }
   },
   "cell_type": "markdown",
   "id": "8eb3cb84-6501-45b4-9d32-a01b2ff9be5b",
   "metadata": {},
   "source": [
    "![Pandas_1.PNG](attachment:08f459c8-3774-4ada-9599-ba9bf336f344.PNG)"
   ]
  },
  {
   "cell_type": "code",
   "execution_count": 3,
   "id": "f0d95764-5038-42ee-8b75-09ccd9abf398",
   "metadata": {},
   "outputs": [
    {
     "name": "stdout",
     "output_type": "stream",
     "text": [
      "     Name  Age  Gender\n",
      "0   Alice   25  Female\n",
      "1     Bob   30    Male\n",
      "2  Claire   27  Female\n"
     ]
    }
   ],
   "source": [
    "data1 = {'Name': ['Alice', 'Bob', 'Claire'],\n",
    "        'Age': [25,30,27],\n",
    "        'Gender': ['Female', 'Male', 'Female']}\n",
    "s3 = pd.DataFrame(data1)\n",
    "print(s3)"
   ]
  },
  {
   "cell_type": "markdown",
   "id": "4b0857cf-d6cf-4592-acb5-52415144dd62",
   "metadata": {},
   "source": [
    "Q4. What is ‘DataFrame’ in pandas and how is it different from pandas.series? Explain with an example."
   ]
  },
  {
   "cell_type": "markdown",
   "id": "5e2b7e18-811f-4f34-91d0-1cf0015887b6",
   "metadata": {},
   "source": [
    "In Pandas, a DataFrame is a two-dimensional labeled data structure that consists of rows and columns, similar to a spreadsheet or a SQL table. It is a primary data structure for data analysis and manipulation, and provides a rich set of methods and operations to work with data.\n",
    "\n",
    "On the other hand, a Pandas Series is a one-dimensional labeled data structure that can hold any data type. It can be thought of as a single column of data, with row labels for each element.\n",
    "\n",
    "Here's an example that illustrates the difference between a Pandas Series and a DataFrame:"
   ]
  },
  {
   "cell_type": "code",
   "execution_count": 4,
   "id": "596e4d98-aff1-4e1c-9656-078bd5855394",
   "metadata": {},
   "outputs": [
    {
     "name": "stdout",
     "output_type": "stream",
     "text": [
      "      name  age country\n",
      "0    Alice   25     USA\n",
      "1      Bob   30  Canada\n",
      "2  Charlie   35     USA\n",
      "3     Dave   40  Mexico\n",
      "\n",
      "\n",
      "0    25\n",
      "1    30\n",
      "2    35\n",
      "3    40\n",
      "Name: age, dtype: int64\n"
     ]
    }
   ],
   "source": [
    "import pandas as pd\n",
    "\n",
    "data2 = {'name': ['Alice', 'Bob', 'Charlie', 'Dave'],\n",
    "        'age': [25, 30, 35, 40],\n",
    "        'country': ['USA', 'Canada', 'USA', 'Mexico']}\n",
    "\n",
    "\n",
    "df = pd.DataFrame(data2)\n",
    "\n",
    "ages = df['age']\n",
    "\n",
    "\n",
    "print(df)\n",
    "print('\\n')\n",
    "print(ages)\n"
   ]
  },
  {
   "cell_type": "markdown",
   "id": "aff0d15c-1ff0-4f7d-a1e6-399cedc09b74",
   "metadata": {},
   "source": [
    "Q5. What are some common functions you can use to manipulate data in a Pandas DataFrame? Can you give an example of when you might use one of these functions?"
   ]
  },
  {
   "cell_type": "markdown",
   "id": "3366c2f9-8ddc-423e-9edb-bce20e4b563b",
   "metadata": {},
   "source": [
    "There are many functions in Pandas that can be used to manipulate data in a DataFrame. Here are some common ones:\n",
    "\n",
    "head() and tail() - these functions allow you to view the top or bottom few rows of a DataFrame, respectively. You might use these functions to quickly check that your data has been loaded into the DataFrame correctly.\n",
    "\n",
    "info() - this function displays information about the DataFrame, such as the number of rows and columns, data types, and missing values. You might use this function to get a quick overview of your data.\n",
    "\n",
    "describe() - this function provides summary statistics for each column of the DataFrame, such as the mean, standard deviation, and quartiles. You might use this function to get an idea of the distribution of your data.\n",
    "\n",
    "drop() - this function allows you to drop specified rows or columns from the DataFrame. You might use this function to remove irrelevant or redundant data from your DataFrame.\n",
    "\n",
    "fillna() - this function allows you to fill missing values in the DataFrame with a specified value or method. You might use this function to handle missing data in your DataFrame.\n",
    "\n",
    "groupby() - this function allows you to group the data in the DataFrame by one or more columns and apply an aggregation function, such as sum(), mean(), or count(), to each group. You might use this function to explore relationships between variables in your data.\n",
    "\n",
    "pivot_table() - this function allows you to create a pivot table from the DataFrame, which is a table that summarizes the data by aggregating and cross-tabulating it. You might use this function to summarize and compare data across multiple dimensions.\n",
    "\n",
    "sort_values() - this function allows you to sort the rows of the DataFrame by one or more columns. You might use this function to order your data in a specific way, such as by date or by value."
   ]
  },
  {
   "cell_type": "code",
   "execution_count": 6,
   "id": "df287a7c-d7e1-4a49-803c-484b45ab5d5c",
   "metadata": {},
   "outputs": [],
   "source": [
    "data3 = {'category': ['A', 'B', 'A', 'B', 'A', 'B'],\n",
    "        'price': [10, 20, 30, 40, 50, 60],\n",
    "        'rating': [3.5, 4.2, 3.9, 4.1, 4.3, 4.5]}\n",
    "df = pd.DataFrame(data3)"
   ]
  },
  {
   "cell_type": "code",
   "execution_count": 7,
   "id": "ec16b864-2b86-4e04-bd9a-fc0e80f1f6d4",
   "metadata": {},
   "outputs": [
    {
     "name": "stdout",
     "output_type": "stream",
     "text": [
      "  category  price  rating\n",
      "0        A     10     3.5\n",
      "1        B     20     4.2\n",
      "2        A     30     3.9\n",
      "3        B     40     4.1\n",
      "4        A     50     4.3\n",
      "\n",
      "\n",
      "  category  price  rating\n",
      "1        B     20     4.2\n",
      "2        A     30     3.9\n",
      "3        B     40     4.1\n",
      "4        A     50     4.3\n",
      "5        B     60     4.5\n"
     ]
    }
   ],
   "source": [
    "head = df.head()\n",
    "tail = df.tail()\n",
    "print(head)\n",
    "print('\\n')\n",
    "print(tail)"
   ]
  },
  {
   "cell_type": "code",
   "execution_count": 8,
   "id": "67a0e69f-ec81-4edd-bf6e-26591bd83d42",
   "metadata": {},
   "outputs": [
    {
     "name": "stdout",
     "output_type": "stream",
     "text": [
      "<class 'pandas.core.frame.DataFrame'>\n",
      "RangeIndex: 6 entries, 0 to 5\n",
      "Data columns (total 3 columns):\n",
      " #   Column    Non-Null Count  Dtype  \n",
      "---  ------    --------------  -----  \n",
      " 0   category  6 non-null      object \n",
      " 1   price     6 non-null      int64  \n",
      " 2   rating    6 non-null      float64\n",
      "dtypes: float64(1), int64(1), object(1)\n",
      "memory usage: 272.0+ bytes\n"
     ]
    }
   ],
   "source": [
    "info = df.info()"
   ]
  },
  {
   "cell_type": "code",
   "execution_count": 10,
   "id": "97e3c151-26d5-45c3-8b02-e320f5e864e5",
   "metadata": {},
   "outputs": [
    {
     "data": {
      "text/html": [
       "<div>\n",
       "<style scoped>\n",
       "    .dataframe tbody tr th:only-of-type {\n",
       "        vertical-align: middle;\n",
       "    }\n",
       "\n",
       "    .dataframe tbody tr th {\n",
       "        vertical-align: top;\n",
       "    }\n",
       "\n",
       "    .dataframe thead th {\n",
       "        text-align: right;\n",
       "    }\n",
       "</style>\n",
       "<table border=\"1\" class=\"dataframe\">\n",
       "  <thead>\n",
       "    <tr style=\"text-align: right;\">\n",
       "      <th></th>\n",
       "      <th>price</th>\n",
       "      <th>rating</th>\n",
       "    </tr>\n",
       "  </thead>\n",
       "  <tbody>\n",
       "    <tr>\n",
       "      <th>count</th>\n",
       "      <td>6.000000</td>\n",
       "      <td>6.000000</td>\n",
       "    </tr>\n",
       "    <tr>\n",
       "      <th>mean</th>\n",
       "      <td>35.000000</td>\n",
       "      <td>4.083333</td>\n",
       "    </tr>\n",
       "    <tr>\n",
       "      <th>std</th>\n",
       "      <td>18.708287</td>\n",
       "      <td>0.348807</td>\n",
       "    </tr>\n",
       "    <tr>\n",
       "      <th>min</th>\n",
       "      <td>10.000000</td>\n",
       "      <td>3.500000</td>\n",
       "    </tr>\n",
       "    <tr>\n",
       "      <th>25%</th>\n",
       "      <td>22.500000</td>\n",
       "      <td>3.950000</td>\n",
       "    </tr>\n",
       "    <tr>\n",
       "      <th>50%</th>\n",
       "      <td>35.000000</td>\n",
       "      <td>4.150000</td>\n",
       "    </tr>\n",
       "    <tr>\n",
       "      <th>75%</th>\n",
       "      <td>47.500000</td>\n",
       "      <td>4.275000</td>\n",
       "    </tr>\n",
       "    <tr>\n",
       "      <th>max</th>\n",
       "      <td>60.000000</td>\n",
       "      <td>4.500000</td>\n",
       "    </tr>\n",
       "  </tbody>\n",
       "</table>\n",
       "</div>"
      ],
      "text/plain": [
       "           price    rating\n",
       "count   6.000000  6.000000\n",
       "mean   35.000000  4.083333\n",
       "std    18.708287  0.348807\n",
       "min    10.000000  3.500000\n",
       "25%    22.500000  3.950000\n",
       "50%    35.000000  4.150000\n",
       "75%    47.500000  4.275000\n",
       "max    60.000000  4.500000"
      ]
     },
     "execution_count": 10,
     "metadata": {},
     "output_type": "execute_result"
    }
   ],
   "source": [
    "df.describe()"
   ]
  },
  {
   "cell_type": "code",
   "execution_count": 12,
   "id": "c7664a44-74a7-4607-8586-64f9a3b83142",
   "metadata": {},
   "outputs": [
    {
     "name": "stdout",
     "output_type": "stream",
     "text": [
      "          price    rating\n",
      "category                 \n",
      "A          30.0  3.900000\n",
      "B          40.0  4.266667\n"
     ]
    }
   ],
   "source": [
    "means = df.groupby('category').mean()\n",
    "print(means)"
   ]
  },
  {
   "cell_type": "markdown",
   "id": "f4b7713e-6c2c-4574-84cb-ea5655361a62",
   "metadata": {},
   "source": [
    "Q6. Which of the following is mutable in nature Series, DataFrame, Panel?"
   ]
  },
  {
   "cell_type": "markdown",
   "id": "898f714f-5c8a-493f-8000-a4cdf3a81691",
   "metadata": {},
   "source": [
    "All three Series, DataFrame and Panel are mutable in nature."
   ]
  },
  {
   "cell_type": "markdown",
   "id": "9c2ccd7b-6d9d-41f2-86af-e71097c95fb9",
   "metadata": {},
   "source": [
    "Q7. Create a DataFrame using multiple Series. Explain with an example."
   ]
  },
  {
   "cell_type": "code",
   "execution_count": 13,
   "id": "28b437ed-6351-4103-b8c0-ee7a217ed3d6",
   "metadata": {},
   "outputs": [
    {
     "name": "stdout",
     "output_type": "stream",
     "text": [
      "      Name  Age  Salary\n",
      "0    Alice   25   50000\n",
      "1      Bob   30   60000\n",
      "2  Charlie   35   70000\n",
      "3     Dave   40   80000\n"
     ]
    }
   ],
   "source": [
    "\n",
    "names = pd.Series(['Alice', 'Bob', 'Charlie', 'Dave'])\n",
    "\n",
    "ages = pd.Series([25, 30, 35, 40])\n",
    "\n",
    "salaries = pd.Series([50000, 60000, 70000, 80000])\n",
    "\n",
    "df = pd.DataFrame({'Name': names, 'Age': ages, 'Salary': salaries})\n",
    "\n",
    "print(df)"
   ]
  },
  {
   "cell_type": "code",
   "execution_count": null,
   "id": "a53c0737-8667-426e-98b4-65ff040f4398",
   "metadata": {},
   "outputs": [],
   "source": []
  }
 ],
 "metadata": {
  "kernelspec": {
   "display_name": "Python 3 (ipykernel)",
   "language": "python",
   "name": "python3"
  },
  "language_info": {
   "codemirror_mode": {
    "name": "ipython",
    "version": 3
   },
   "file_extension": ".py",
   "mimetype": "text/x-python",
   "name": "python",
   "nbconvert_exporter": "python",
   "pygments_lexer": "ipython3",
   "version": "3.9.13"
  }
 },
 "nbformat": 4,
 "nbformat_minor": 5
}
